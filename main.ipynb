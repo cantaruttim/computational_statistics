{
 "cells": [
  {
   "cell_type": "markdown",
   "id": "cfc5dbe1",
   "metadata": {},
   "source": [
    "# Números Aleatórios Simples\n",
    "\n",
    "Números uniformes aleatórios são aqueles que, a princípio, se situam dentro de um intervalo real, geralmente,\n",
    "entre 0 e 1, para os quais não podemos produzir uma sequência previsível de valores e cuja função densidade\n",
    "é constante. Em vários programas de computadores estes números são gerados utilizando o comando\n",
    "random ou comandos similares.\n",
    "\n",
    "## Método Congruencial\n",
    "\n",
    "$$U_{i+1} = \\frac{(aU_{i} + c)}{mod (m)} $$"
   ]
  }
 ],
 "metadata": {
  "kernelspec": {
   "display_name": "cs",
   "language": "python",
   "name": "python3"
  },
  "language_info": {
   "name": "python",
   "version": "3.13.1"
  }
 },
 "nbformat": 4,
 "nbformat_minor": 5
}
