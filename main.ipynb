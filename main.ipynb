{
 "cells": [
  {
   "cell_type": "markdown",
   "id": "cfc5dbe1",
   "metadata": {},
   "source": [
    "# Números Aleatórios Simples\n",
    "\n",
    "Números uniformes aleatórios são aqueles que, a princípio, se situam dentro de um intervalo real, geralmente,\n",
    "entre 0 e 1, para os quais não podemos produzir uma sequência previsível de valores e cuja função densidade\n",
    "é constante. Em vários programas de computadores estes números são gerados utilizando o comando\n",
    "random ou comandos similares.\n",
    "\n",
    "## Método Congruencial\n",
    "\n",
    "m = módulo <br />\n",
    "a = multiplicador <br />\n",
    "c = incrementador <br />\n",
    "mod = resto da divisão por m <br />\n",
    "\n",
    "$$U_{i+1} = \\frac{(aU_{i} + c)}{mod (m)} $$"
   ]
  },
  {
   "cell_type": "code",
   "execution_count": 2,
   "id": "f5ea9131",
   "metadata": {},
   "outputs": [
    {
     "name": "stdout",
     "output_type": "stream",
     "text": [
      "['0.71116', '0.44092', '0.60602', '0.31851', '0.24481']\n",
      "['0.00783', '0.66933', '0.36093', '0.10878', '0.30000']\n",
      "tempo médio (micros): 0.41045\n",
      "tempo total (micros): 41045\n"
     ]
    }
   ],
   "source": [
    "from datetime import datetime # obter o data/horário do sistema\n",
    "\n",
    "# gerador padrão mínimo de números aleatórios adaptado de Park and\n",
    "# Miller. Retorna desvios aleatórios uniformes entre 0 e 1. Fazer\n",
    "# \"sem\" igual a qualquer valor inteiro para iniciar a sequência;\n",
    "# \"sem\" não pode ser alterado entre sucessivas chamadas da sequência\n",
    "# se \"sem\" for zero ou negativo, um valor dependente do valor do relógio\n",
    "# do sistema no momento da chamada é usado como semente. Constantes\n",
    "# usadas a = 7ˆ5 = 16.807; m = 2ˆ31 - 1 = 2.147.483.647\n",
    "# e c = 0\n",
    "def gnup(sem, q, a, r, m):\n",
    "    k = sem // q # divisão por inteiros\n",
    "    sem = a * (sem % q) - r * k\n",
    "    if sem < 0:\n",
    "        sem = sem + m\n",
    "    u = sem / m\n",
    "    res = {'sem': sem, 'u': u}\n",
    "    return res\n",
    "\n",
    "def gnap(n, sem = 0):\n",
    "    a = 16807 \n",
    "    m = 2147483647\n",
    "    q = 127773 \n",
    "    r = 2836\n",
    "    mr = 1 / m\n",
    "    if sem <= 0:\n",
    "        t = datetime.now()\n",
    "        sem = t.second+t.minute*60+t.hour*3600+t.day*86400\n",
    "    \n",
    "    u = []\n",
    "    for i in range(n):\n",
    "        x = gnup(sem, q, a, r, m)\n",
    "        u.append(x['u'])\n",
    "        sem = x['sem']\n",
    "    return u\n",
    "\n",
    "\n",
    "# Exemplos de uso\n",
    "n = 5\n",
    "x = gnap(n,0)\n",
    "# Formatando a saída para 5 casas decimais\n",
    "print([\"%0.5f\" % v for v in x])\n",
    "# especificando a semente\n",
    "y = gnap(n, 1001)\n",
    "# Formatando a saída para 5 casas decimais\n",
    "print([\"%0.5f\" % v for v in y])\n",
    "\n",
    "# tempo de execução para cada número aleatório\n",
    "n = 100000\n",
    "t1 = datetime.now()\n",
    "x = gnap(n)\n",
    "t2 = datetime.now()\n",
    "t = t2-t1\n",
    "print('tempo médio (micros):',t.microseconds / n)\n",
    "print('tempo total (micros):',t.microseconds)"
   ]
  }
 ],
 "metadata": {
  "kernelspec": {
   "display_name": "cs",
   "language": "python",
   "name": "python3"
  },
  "language_info": {
   "codemirror_mode": {
    "name": "ipython",
    "version": 3
   },
   "file_extension": ".py",
   "mimetype": "text/x-python",
   "name": "python",
   "nbconvert_exporter": "python",
   "pygments_lexer": "ipython3",
   "version": "3.13.1"
  }
 },
 "nbformat": 4,
 "nbformat_minor": 5
}
